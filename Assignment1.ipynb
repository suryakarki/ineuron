{
 "cells": [
  {
   "cell_type": "markdown",
   "id": "0bdf986a",
   "metadata": {},
   "source": [
    "1. In the below elements which of them are values or an expression?\n",
    "eg:- values can be integer or string and expressions will be mathematical operators.  \n",
    "\n",
    "\\*  \n",
    "'hello'  \n",
    "\\-87.8  \n",
    "\\-  \n",
    "/  \n",
    "\n",
    "\\+ \n",
    "\n",
    "6  "
   ]
  },
  {
   "cell_type": "code",
   "execution_count": null,
   "id": "4501322f",
   "metadata": {},
   "outputs": [],
   "source": [
    "Expressions:\n",
    "*\n",
    "-\n",
    "/\n",
    "+\n",
    "\n",
    "Values:\n",
    "'hello'\n",
    "-87.8\n",
    "6"
   ]
  },
  {
   "cell_type": "markdown",
   "id": "0bbb2d76",
   "metadata": {},
   "source": [
    "2. What is the difference between string and variable?"
   ]
  },
  {
   "cell_type": "code",
   "execution_count": null,
   "id": "a0814d5a",
   "metadata": {},
   "outputs": [],
   "source": [
    "String is a data type for a sequence of characters (alpha-numeric or special characters) whereas variables are references that we create to refer other values (including String value) in the program later."
   ]
  },
  {
   "cell_type": "markdown",
   "id": "280a5c2a",
   "metadata": {},
   "source": [
    "3. Describe three different data types."
   ]
  },
  {
   "cell_type": "code",
   "execution_count": null,
   "id": "14834b05",
   "metadata": {},
   "outputs": [],
   "source": [
    "Three different data types are:\n",
    "- Integers\n",
    "- Boolean\n",
    "- String"
   ]
  },
  {
   "cell_type": "markdown",
   "id": "85487bae",
   "metadata": {},
   "source": [
    "4. What is an expression made up of? What do all expressions do?"
   ]
  },
  {
   "cell_type": "code",
   "execution_count": null,
   "id": "d560cb12",
   "metadata": {},
   "outputs": [],
   "source": [
    "An expression is a combination of values, variables, operators and function calls. All expressions are representations of value."
   ]
  },
  {
   "cell_type": "markdown",
   "id": "4e418ac3",
   "metadata": {},
   "source": [
    "5. This assignment statements, like spam = 10. What is the difference between an expression and a statement?"
   ]
  },
  {
   "cell_type": "code",
   "execution_count": null,
   "id": "e2e870e2",
   "metadata": {},
   "outputs": [],
   "source": [
    "An expression returns a value upon its evaluation while a statement performs an action or command and does not return a value."
   ]
  },
  {
   "cell_type": "markdown",
   "id": "9598116d",
   "metadata": {},
   "source": [
    "6. After running the following code, what does the variable bacon contain?\n",
    "\n",
    "bacon = 22\n",
    "\n",
    "bacon + 1"
   ]
  },
  {
   "cell_type": "code",
   "execution_count": null,
   "id": "5f6412a9",
   "metadata": {},
   "outputs": [],
   "source": [
    "The variable 'bacon' will contain integer value 22."
   ]
  },
  {
   "cell_type": "markdown",
   "id": "207ee4fc",
   "metadata": {},
   "source": [
    "7. What should the values of the following two terms be?\n",
    "\n",
    "'spam' + 'spamspam'\n",
    "\n",
    "'spam' * 3\n"
   ]
  },
  {
   "cell_type": "code",
   "execution_count": null,
   "id": "ddba6736",
   "metadata": {},
   "outputs": [],
   "source": [
    "The output of both the above expressions will be 'spamspamspam'"
   ]
  },
  {
   "cell_type": "markdown",
   "id": "27d83d1f",
   "metadata": {},
   "source": [
    "8. Why is eggs a valid variable name while 100 is invalid?"
   ]
  },
  {
   "cell_type": "code",
   "execution_count": null,
   "id": "e69b8ee9",
   "metadata": {},
   "outputs": [],
   "source": [
    "eggs is valid as it is neither a python keyword nor it starts with a numerical value. 100 is invalid as it starts with a numerical value."
   ]
  },
  {
   "cell_type": "markdown",
   "id": "6f8719ce",
   "metadata": {},
   "source": [
    "9. What three functions can be used to get the integer, floating-point number, or string version of a value?"
   ]
  },
  {
   "cell_type": "code",
   "execution_count": null,
   "id": "3f01673f",
   "metadata": {},
   "outputs": [],
   "source": [
    "int(), float() and str() functions can be used to get the integer, floating-point number, or string version of a value."
   ]
  },
  {
   "cell_type": "markdown",
   "id": "a1fe3a9c",
   "metadata": {},
   "source": [
    "10. Why does this expression cause an error? How can you fix it?\n",
    "\n",
    "'I have eaten ' + 99 + ' burritos.'\n"
   ]
  },
  {
   "cell_type": "code",
   "execution_count": null,
   "id": "df9dad10",
   "metadata": {},
   "outputs": [],
   "source": [
    "The given expression causes error because we are trying to concatinate two strings with an integer.\n",
    "To fix the error we will need to either give 99 inside single/double quotes or use str() to covert it to string."
   ]
  },
  {
   "cell_type": "code",
   "execution_count": null,
   "id": "15024950",
   "metadata": {},
   "outputs": [],
   "source": []
  }
 ],
 "metadata": {
  "kernelspec": {
   "display_name": "Python 3",
   "language": "python",
   "name": "python3"
  },
  "language_info": {
   "codemirror_mode": {
    "name": "ipython",
    "version": 3
   },
   "file_extension": ".py",
   "mimetype": "text/x-python",
   "name": "python",
   "nbconvert_exporter": "python",
   "pygments_lexer": "ipython3",
   "version": "3.8.8"
  }
 },
 "nbformat": 4,
 "nbformat_minor": 5
}
