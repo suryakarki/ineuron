{
 "cells": [
  {
   "cell_type": "markdown",
   "id": "2ca33767",
   "metadata": {},
   "source": [
    "1. In the below elements which of them are values or an expression?\n",
    "eg:- values can be integer or string and expressions will be mathematical operators.  \n",
    "\n",
    "\\*  \n",
    "'hello'  \n",
    "\\-87.8  \n",
    "\\-  \n",
    "/  \n",
    "\n",
    "\\+ \n",
    "\n",
    "6  "
   ]
  },
  {
   "cell_type": "markdown",
   "id": "5fef8925",
   "metadata": {},
   "source": [
    "A: Expression:\n",
    "- \\*\n",
    "- \\-\n",
    "- /\n",
    "- \\+\n",
    "\n",
    "Values:\n",
    "- 'hello'\n",
    "- \\-87.8\n",
    "- 6"
   ]
  },
  {
   "cell_type": "markdown",
   "id": "669e5cc6",
   "metadata": {},
   "source": [
    "2. What is the difference between string and variable?"
   ]
  },
  {
   "cell_type": "markdown",
   "id": "149b07ab",
   "metadata": {},
   "source": [
    "A: String is a data type for a sequence of characters (alpha-numeric or special characters) whereas variables are references that we create to refer other values (including String value) in the program later."
   ]
  },
  {
   "cell_type": "markdown",
   "id": "37230b00",
   "metadata": {},
   "source": [
    "3. Describe three different data types."
   ]
  },
  {
   "cell_type": "markdown",
   "id": "9504550b",
   "metadata": {},
   "source": [
    "A: Three different data types are:\n",
    "- Integers\n",
    "- Boolean\n",
    "- String"
   ]
  },
  {
   "cell_type": "markdown",
   "id": "e15a64d8",
   "metadata": {},
   "source": [
    "4. What is an expression made up of? What do all expressions do?"
   ]
  },
  {
   "cell_type": "markdown",
   "id": "2d7df69e",
   "metadata": {},
   "source": [
    "A: An expression is a combination of values, variables, operators and function calls. All expressions are representations of value."
   ]
  },
  {
   "cell_type": "markdown",
   "id": "a4e88f81",
   "metadata": {},
   "source": [
    "5. This assignment statements, like spam = 10. What is the difference between an expression and a statement?"
   ]
  },
  {
   "cell_type": "markdown",
   "id": "ffe44042",
   "metadata": {},
   "source": [
    "A: An expression returns a value upon its evaluation while a statement performs an action or command and does not return a value."
   ]
  },
  {
   "cell_type": "markdown",
   "id": "3cc68617",
   "metadata": {},
   "source": [
    "6. After running the following code, what does the variable bacon contain?\n",
    "\n",
    "bacon = 22\n",
    "\n",
    "bacon + 1"
   ]
  },
  {
   "cell_type": "markdown",
   "id": "544cf5d8",
   "metadata": {},
   "source": [
    "A: The variable 'bacon' will contain integer value 22."
   ]
  },
  {
   "cell_type": "markdown",
   "id": "10fa5870",
   "metadata": {},
   "source": [
    "7. What should the values of the following two terms be?\n",
    "\n",
    "'spam' + 'spamspam'\n",
    "\n",
    "'spam' * 3\n"
   ]
  },
  {
   "cell_type": "markdown",
   "id": "d88f9046",
   "metadata": {},
   "source": [
    "A: The output of both the above expressions will be 'spamspamspam'"
   ]
  },
  {
   "cell_type": "markdown",
   "id": "12d68a9d",
   "metadata": {},
   "source": [
    "8. Why is eggs a valid variable name while 100 is invalid?"
   ]
  },
  {
   "cell_type": "markdown",
   "id": "bac93af3",
   "metadata": {},
   "source": [
    "A: eggs is valid as it is neither a python keyword nor it starts with a numerical value. 100 is invalid as it starts with a numerical value."
   ]
  },
  {
   "cell_type": "markdown",
   "id": "5467c3de",
   "metadata": {},
   "source": [
    "9. What three functions can be used to get the integer, floating-point number, or string version of a value?"
   ]
  },
  {
   "cell_type": "markdown",
   "id": "5ac68fa1",
   "metadata": {},
   "source": [
    "A: int(), float() and str() functions can be used to get the integer, floating-point number, or string version of a value."
   ]
  },
  {
   "cell_type": "markdown",
   "id": "47089168",
   "metadata": {},
   "source": [
    "10. Why does this expression cause an error? How can you fix it?\n",
    "\n",
    "'I have eaten ' + 99 + ' burritos.'\n"
   ]
  },
  {
   "cell_type": "markdown",
   "id": "f3ee1728",
   "metadata": {},
   "source": [
    "A: The given expression causes error because we are trying to concatinate two strings with an integer.\n",
    "To fix the error we will need to either give 99 inside single/double quotes or use str() to covert it to string."
   ]
  },
  {
   "cell_type": "code",
   "execution_count": null,
   "id": "3fb583da",
   "metadata": {},
   "outputs": [],
   "source": []
  }
 ],
 "metadata": {
  "kernelspec": {
   "display_name": "Python 3",
   "language": "python",
   "name": "python3"
  },
  "language_info": {
   "codemirror_mode": {
    "name": "ipython",
    "version": 3
   },
   "file_extension": ".py",
   "mimetype": "text/x-python",
   "name": "python",
   "nbconvert_exporter": "python",
   "pygments_lexer": "ipython3",
   "version": "3.8.8"
  }
 },
 "nbformat": 4,
 "nbformat_minor": 5
}
