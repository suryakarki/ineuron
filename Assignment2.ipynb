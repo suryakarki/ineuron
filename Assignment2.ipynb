{
 "cells": [
  {
   "cell_type": "markdown",
   "id": "1346c18e",
   "metadata": {},
   "source": [
    "1. What are the two values of the Boolean data type? How do you write them?"
   ]
  },
  {
   "cell_type": "markdown",
   "id": "7340fddc",
   "metadata": {},
   "source": []
  },
  {
   "cell_type": "markdown",
   "id": "6a15e13a",
   "metadata": {},
   "source": [
    "2. What are the three different types of Boolean operators?"
   ]
  },
  {
   "cell_type": "markdown",
   "id": "490392a8",
   "metadata": {},
   "source": []
  },
  {
   "cell_type": "markdown",
   "id": "552555ac",
   "metadata": {},
   "source": [
    "3. Make a list of each Boolean operator's truth tables (i.e. every possible combination of Boolean values for the operator and what it evaluate )."
   ]
  },
  {
   "cell_type": "markdown",
   "id": "881a5280",
   "metadata": {},
   "source": []
  },
  {
   "cell_type": "markdown",
   "id": "1209da59",
   "metadata": {},
   "source": [
    "4. What are the values of the following expressions?\n",
    "\n",
    "(5 > 4) and (3 == 5)\n",
    "\n",
    "not (5 > 4)\n",
    "\n",
    "(5 > 4) or (3 == 5)\n",
    "\n",
    "not ((5 > 4) or (3 == 5))\n",
    "\n",
    "(True and True) and (True == False)\n",
    "\n",
    "(not False) or (not True)"
   ]
  },
  {
   "cell_type": "markdown",
   "id": "5ef1dc7e",
   "metadata": {},
   "source": []
  },
  {
   "cell_type": "markdown",
   "id": "3104bf0b",
   "metadata": {},
   "source": [
    "5. What are the six comparison operators?"
   ]
  },
  {
   "cell_type": "markdown",
   "id": "f9fb4f24",
   "metadata": {},
   "source": []
  },
  {
   "cell_type": "markdown",
   "id": "1503dfe6",
   "metadata": {},
   "source": [
    "6. How do you tell the difference between the equal to and assignment operators?Describe a condition and when you would use one."
   ]
  },
  {
   "cell_type": "markdown",
   "id": "35b8b0f8",
   "metadata": {},
   "source": []
  },
  {
   "cell_type": "markdown",
   "id": "2795f677",
   "metadata": {},
   "source": [
    "7. Identify the three blocks in this code:\n",
    "\n",
    "spam = 0\n",
    "\n",
    "if spam == 10:\n",
    "    \n",
    "    print('eggs')\n",
    "    \n",
    "if spam > 5:\n",
    "    \n",
    "    print('bacon')\n",
    "    \n",
    "else:\n",
    "    \n",
    "    print('ham')\n",
    "    \n",
    "print('spam')\n",
    "\n",
    "print('spam')\n"
   ]
  },
  {
   "cell_type": "markdown",
   "id": "166cabee",
   "metadata": {},
   "source": []
  },
  {
   "cell_type": "markdown",
   "id": "60a8ae2d",
   "metadata": {},
   "source": [
    "8. Write code that prints Hello if 1 is stored in spam, prints Howdy if 2 is stored in spam, and prints Greetings! if anything else is stored in spam."
   ]
  },
  {
   "cell_type": "markdown",
   "id": "6c182dff",
   "metadata": {},
   "source": []
  },
  {
   "cell_type": "markdown",
   "id": "effaf673",
   "metadata": {},
   "source": [
    "9.If your programme is stuck in an endless loop, what keys you’ll press?"
   ]
  },
  {
   "cell_type": "markdown",
   "id": "2c9ed63d",
   "metadata": {},
   "source": []
  },
  {
   "cell_type": "markdown",
   "id": "f15e1140",
   "metadata": {},
   "source": [
    "10. How can you tell the difference between break and continue?"
   ]
  },
  {
   "cell_type": "markdown",
   "id": "3f5326c2",
   "metadata": {},
   "source": []
  },
  {
   "cell_type": "markdown",
   "id": "582dc857",
   "metadata": {},
   "source": [
    "11. In a for loop, what is the difference between range(10), range(0, 10), and range(0, 10, 1)?"
   ]
  },
  {
   "cell_type": "markdown",
   "id": "f9b7a413",
   "metadata": {},
   "source": []
  },
  {
   "cell_type": "markdown",
   "id": "7dc21cb5",
   "metadata": {},
   "source": [
    "12. Write a short program that prints the numbers 1 to 10 using a for loop. Then write an equivalent program that prints the numbers 1 to 10 using a while loop."
   ]
  },
  {
   "cell_type": "markdown",
   "id": "383e4cfa",
   "metadata": {},
   "source": []
  },
  {
   "cell_type": "markdown",
   "id": "ecb0267d",
   "metadata": {},
   "source": [
    "13. If you had a function named bacon() inside a module named spam, how would you call it after importing spam?"
   ]
  },
  {
   "cell_type": "markdown",
   "id": "5896102a",
   "metadata": {},
   "source": []
  },
  {
   "cell_type": "code",
   "execution_count": null,
   "id": "f8fc2e2e",
   "metadata": {},
   "outputs": [],
   "source": []
  }
 ],
 "metadata": {
  "kernelspec": {
   "display_name": "Python 3",
   "language": "python",
   "name": "python3"
  },
  "language_info": {
   "codemirror_mode": {
    "name": "ipython",
    "version": 3
   },
   "file_extension": ".py",
   "mimetype": "text/x-python",
   "name": "python",
   "nbconvert_exporter": "python",
   "pygments_lexer": "ipython3",
   "version": "3.8.8"
  }
 },
 "nbformat": 4,
 "nbformat_minor": 5
}
