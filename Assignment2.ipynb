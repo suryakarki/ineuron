{
 "cells": [
  {
   "cell_type": "markdown",
   "id": "6b523777",
   "metadata": {},
   "source": [
    "1. What are the two values of the Boolean data type? How do you write them?"
   ]
  },
  {
   "cell_type": "code",
   "execution_count": null,
   "id": "039a6ecb",
   "metadata": {},
   "outputs": [],
   "source": [
    "Two values for Boolean data types are:\n",
    "- True\n",
    "- False\n",
    "\n",
    "We write them with first character in upper case and the rest in lower case, i.e. 'True' and 'False'."
   ]
  },
  {
   "cell_type": "markdown",
   "id": "2df773e3",
   "metadata": {},
   "source": [
    "2. What are the three different types of Boolean operators?"
   ]
  },
  {
   "cell_type": "code",
   "execution_count": null,
   "id": "e0c80071",
   "metadata": {},
   "outputs": [],
   "source": [
    "The three different types of Boolean operators are:\n",
    "- and\n",
    "- or\n",
    "- not"
   ]
  },
  {
   "cell_type": "markdown",
   "id": "5caf1948",
   "metadata": {},
   "source": [
    "3. Make a list of each Boolean operator's truth tables (i.e. every possible combination of Boolean values for the operator and what it evaluate )."
   ]
  },
  {
   "cell_type": "code",
   "execution_count": null,
   "id": "e631385a",
   "metadata": {},
   "outputs": [],
   "source": [
    "and Truth Table:\n",
    "    True and True gives True\n",
    "    True and False gives False\n",
    "    False and True gives False\n",
    "    False and False gives False\n",
    "\n",
    "or Truth Table:\n",
    "    True or True gives True\n",
    "    True or False gives True\n",
    "    False or True gives True\n",
    "    False or False gives False\n",
    "\n",
    "not Truth Table:\n",
    "    not True gives False\n",
    "    not False gives True"
   ]
  },
  {
   "cell_type": "markdown",
   "id": "7b0b03c5",
   "metadata": {},
   "source": [
    "4. What are the values of the following expressions?\n",
    "\n",
    "(5 > 4) and (3 == 5)\n",
    "\n",
    "not (5 > 4)\n",
    "\n",
    "(5 > 4) or (3 == 5)\n",
    "\n",
    "not ((5 > 4) or (3 == 5))\n",
    "\n",
    "(True and True) and (True == False)\n",
    "\n",
    "(not False) or (not True)"
   ]
  },
  {
   "cell_type": "code",
   "execution_count": null,
   "id": "2cf627d5",
   "metadata": {},
   "outputs": [],
   "source": [
    "False\n",
    "False\n",
    "True\n",
    "False\n",
    "False\n",
    "True"
   ]
  },
  {
   "cell_type": "markdown",
   "id": "9cf8d40d",
   "metadata": {},
   "source": [
    "5. What are the six comparison operators?"
   ]
  },
  {
   "cell_type": "code",
   "execution_count": null,
   "id": "669a7aef",
   "metadata": {},
   "outputs": [],
   "source": [
    "The six comparison operators are:\n",
    "    - Greater than >\n",
    "    - Less than <\n",
    "    - Equal to ==\n",
    "    - Greater than Equal to >=\n",
    "    - Less than Equal to <=\n",
    "    - Not Equal !="
   ]
  },
  {
   "cell_type": "markdown",
   "id": "c4866635",
   "metadata": {},
   "source": [
    "6. How do you tell the difference between the equal to and assignment operators?Describe a condition and when you would use one."
   ]
  },
  {
   "cell_type": "code",
   "execution_count": null,
   "id": "82b5fd42",
   "metadata": {},
   "outputs": [],
   "source": [
    "Equal to operator has two '=' symbols (==) and is used for comparision of two values or expressions to return a boolean value.\n",
    "Whereas assignment operators has only one '=' symbol (=) and is used to assign a value to a variable.\n",
    "\n",
    "Condition is a statement that we use to evaluate actions in the program and depending on the input the conditional statements are evaluated as true or false to decide the flow of the program.\n",
    "We will use condition when we want to run some part of program depending on a specific situation."
   ]
  },
  {
   "cell_type": "markdown",
   "id": "6e793416",
   "metadata": {},
   "source": [
    "7. Identify the three blocks in this code:\n",
    "\n",
    "spam = 0\n",
    "\n",
    "if spam == 10:\n",
    "    \n",
    "    print('eggs')\n",
    "    \n",
    "if spam > 5:\n",
    "    \n",
    "    print('bacon')\n",
    "    \n",
    "else:\n",
    "    \n",
    "    print('ham')\n",
    "    \n",
    "print('spam')\n",
    "\n",
    "print('spam')\n"
   ]
  },
  {
   "cell_type": "code",
   "execution_count": null,
   "id": "3337b4cc",
   "metadata": {},
   "outputs": [],
   "source": [
    "The three blocks are:\n",
    "    - if spam == 10: print('eggs')\n",
    "    - if spam > 5: print('bacon')\n",
    "    - else: print('ham')"
   ]
  },
  {
   "cell_type": "markdown",
   "id": "63fc30ea",
   "metadata": {},
   "source": [
    "8. Write code that prints Hello if 1 is stored in spam, prints Howdy if 2 is stored in spam, and prints Greetings! if anything else is stored in spam."
   ]
  },
  {
   "cell_type": "code",
   "execution_count": null,
   "id": "59e648fe",
   "metadata": {},
   "outputs": [],
   "source": [
    "spam = int(input(\"Enter a number: \"))\n",
    "if spam == 1:\n",
    "    print(\"Hello\")\n",
    "elif spam == 2:\n",
    "    print(\"Howdy\")\n",
    "else:\n",
    "    print(\"Greetings!\")"
   ]
  },
  {
   "cell_type": "markdown",
   "id": "0ce96230",
   "metadata": {},
   "source": [
    "9.If your programme is stuck in an endless loop, what keys you’ll press?"
   ]
  },
  {
   "cell_type": "code",
   "execution_count": null,
   "id": "9ad2026c",
   "metadata": {},
   "outputs": [],
   "source": [
    "ctrl + c"
   ]
  },
  {
   "cell_type": "markdown",
   "id": "98fbaf54",
   "metadata": {},
   "source": [
    "10. How can you tell the difference between break and continue?"
   ]
  },
  {
   "cell_type": "code",
   "execution_count": null,
   "id": "06254638",
   "metadata": {},
   "outputs": [],
   "source": [
    "The break keyword is used to get out of the loop in which it is used.\n",
    "The continue keyword is used to skip the next code lines in the loop and continue the loop with next iteration."
   ]
  },
  {
   "cell_type": "markdown",
   "id": "759d1889",
   "metadata": {},
   "source": [
    "11. In a for loop, what is the difference between range(10), range(0, 10), and range(0, 10, 1)?"
   ]
  },
  {
   "cell_type": "code",
   "execution_count": null,
   "id": "8415cdfc",
   "metadata": {},
   "outputs": [],
   "source": [
    "range(10), range(0,10) and range (0,10,1) will give same sequence of numbers ([0,1,2,3,4,5,6,7,8,9]) in the for loop"
   ]
  },
  {
   "cell_type": "markdown",
   "id": "3bccbb38",
   "metadata": {},
   "source": [
    "12. Write a short program that prints the numbers 1 to 10 using a for loop. Then write an equivalent program that prints the numbers 1 to 10 using a while loop."
   ]
  },
  {
   "cell_type": "code",
   "execution_count": null,
   "id": "07c5fd84",
   "metadata": {},
   "outputs": [],
   "source": [
    "print('Using For Loop')\n",
    "for i in range(1,11):\n",
    "    print(i,end=' ')\n",
    "print('\\n'+'Using While Loop')\n",
    "i=1\n",
    "while i <= 10:\n",
    "    print(i,end=' ')\n",
    "    i += 1"
   ]
  },
  {
   "cell_type": "markdown",
   "id": "56ad460a",
   "metadata": {},
   "source": [
    "13. If you had a function named bacon() inside a module named spam, how would you call it after importing spam?"
   ]
  },
  {
   "cell_type": "code",
   "execution_count": null,
   "id": "c960d639",
   "metadata": {},
   "outputs": [],
   "source": [
    "spam.bacon()"
   ]
  },
  {
   "cell_type": "code",
   "execution_count": null,
   "id": "51bfc3cd",
   "metadata": {},
   "outputs": [],
   "source": []
  }
 ],
 "metadata": {
  "kernelspec": {
   "display_name": "Python 3",
   "language": "python",
   "name": "python3"
  },
  "language_info": {
   "codemirror_mode": {
    "name": "ipython",
    "version": 3
   },
   "file_extension": ".py",
   "mimetype": "text/x-python",
   "name": "python",
   "nbconvert_exporter": "python",
   "pygments_lexer": "ipython3",
   "version": "3.8.8"
  }
 },
 "nbformat": 4,
 "nbformat_minor": 5
}
